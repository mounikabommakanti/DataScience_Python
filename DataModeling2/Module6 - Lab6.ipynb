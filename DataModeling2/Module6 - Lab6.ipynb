{
 "cells": [
  {
   "cell_type": "markdown",
   "metadata": {},
   "source": [
    "# DAT210x - Programming with Python for DS"
   ]
  },
  {
   "cell_type": "markdown",
   "metadata": {},
   "source": [
    "## Module6- Lab6"
   ]
  },
  {
   "cell_type": "code",
   "execution_count": 50,
   "metadata": {
    "collapsed": true
   },
   "outputs": [],
   "source": [
    "import pandas as pd\n",
    "import time"
   ]
  },
  {
   "cell_type": "markdown",
   "metadata": {
    "collapsed": true
   },
   "source": [
    "### How to Get The Dataset"
   ]
  },
  {
   "cell_type": "markdown",
   "metadata": {
    "collapsed": true
   },
   "source": [
    "Grab the DLA HAR dataset from:\n",
    "\n",
    "- http://groupware.les.inf.puc-rio.br/har\n",
    "- http://groupware.les.inf.puc-rio.br/static/har/dataset-har-PUC-Rio-ugulino.zip\n",
    "- A cached copy of the dataset is included in the course repository.\n",
    "\n",
    "After extracting it out, load up the dataset into dataframe named `X` and do your regular dataframe examination:"
   ]
  },
  {
   "cell_type": "code",
   "execution_count": 114,
   "metadata": {
    "collapsed": false
   },
   "outputs": [
    {
     "data": {
      "text/html": [
       "<div>\n",
       "<table border=\"1\" class=\"dataframe\">\n",
       "  <thead>\n",
       "    <tr style=\"text-align: right;\">\n",
       "      <th></th>\n",
       "      <th>user</th>\n",
       "      <th>gender</th>\n",
       "      <th>age</th>\n",
       "      <th>how_tall_in_meters</th>\n",
       "      <th>weight</th>\n",
       "      <th>body_mass_index</th>\n",
       "      <th>x1</th>\n",
       "      <th>y1</th>\n",
       "      <th>z1</th>\n",
       "      <th>x2</th>\n",
       "      <th>y2</th>\n",
       "      <th>z2</th>\n",
       "      <th>x3</th>\n",
       "      <th>y3</th>\n",
       "      <th>z3</th>\n",
       "      <th>x4</th>\n",
       "      <th>y4</th>\n",
       "      <th>z4</th>\n",
       "      <th>class</th>\n",
       "    </tr>\n",
       "  </thead>\n",
       "  <tbody>\n",
       "  </tbody>\n",
       "</table>\n",
       "</div>"
      ],
      "text/plain": [
       "Empty DataFrame\n",
       "Columns: [user, gender, age, how_tall_in_meters, weight, body_mass_index, x1, y1, z1, x2, y2, z2, x3, y3, z3, x4, y4, z4, class]\n",
       "Index: []"
      ]
     },
     "execution_count": 114,
     "metadata": {},
     "output_type": "execute_result"
    }
   ],
   "source": [
    "# .. your code here ..\n",
    "X=pd.read_csv('Datasets/PUC',delimiter=';')\n",
    "X[pd.isnull(X).any(axis=1)]\n",
    "#X.shape\n",
    "#X.head()"
   ]
  },
  {
   "cell_type": "markdown",
   "metadata": {},
   "source": [
    "Encode the gender column such that: `0` is male, and `1` as female:"
   ]
  },
  {
   "cell_type": "code",
   "execution_count": 115,
   "metadata": {
    "collapsed": false
   },
   "outputs": [
    {
     "data": {
      "text/html": [
       "<div>\n",
       "<table border=\"1\" class=\"dataframe\">\n",
       "  <thead>\n",
       "    <tr style=\"text-align: right;\">\n",
       "      <th></th>\n",
       "      <th>user</th>\n",
       "      <th>gender</th>\n",
       "      <th>age</th>\n",
       "      <th>how_tall_in_meters</th>\n",
       "      <th>weight</th>\n",
       "      <th>body_mass_index</th>\n",
       "      <th>x1</th>\n",
       "      <th>y1</th>\n",
       "      <th>z1</th>\n",
       "      <th>x2</th>\n",
       "      <th>y2</th>\n",
       "      <th>z2</th>\n",
       "      <th>x3</th>\n",
       "      <th>y3</th>\n",
       "      <th>z3</th>\n",
       "      <th>x4</th>\n",
       "      <th>y4</th>\n",
       "      <th>z4</th>\n",
       "      <th>class</th>\n",
       "    </tr>\n",
       "  </thead>\n",
       "  <tbody>\n",
       "  </tbody>\n",
       "</table>\n",
       "</div>"
      ],
      "text/plain": [
       "Empty DataFrame\n",
       "Columns: [user, gender, age, how_tall_in_meters, weight, body_mass_index, x1, y1, z1, x2, y2, z2, x3, y3, z3, x4, y4, z4, class]\n",
       "Index: []"
      ]
     },
     "execution_count": 115,
     "metadata": {},
     "output_type": "execute_result"
    }
   ],
   "source": [
    "# .. your code here ..\n",
    "X['gender']=X['gender'].map({'Male':0,'Woman':1})\n",
    "\n",
    "X.head()\n",
    "\n",
    "X.dropna(axis=0,inplace=True)\n",
    "X[pd.isnull(X).any(axis=1)]"
   ]
  },
  {
   "cell_type": "markdown",
   "metadata": {},
   "source": [
    "Clean up any columns with commas in them so that they're properly represented as decimals:"
   ]
  },
  {
   "cell_type": "code",
   "execution_count": 117,
   "metadata": {
    "collapsed": false
   },
   "outputs": [
    {
     "data": {
      "text/html": [
       "<div>\n",
       "<table border=\"1\" class=\"dataframe\">\n",
       "  <thead>\n",
       "    <tr style=\"text-align: right;\">\n",
       "      <th></th>\n",
       "      <th>user</th>\n",
       "      <th>gender</th>\n",
       "      <th>age</th>\n",
       "      <th>how_tall_in_meters</th>\n",
       "      <th>weight</th>\n",
       "      <th>body_mass_index</th>\n",
       "      <th>x1</th>\n",
       "      <th>y1</th>\n",
       "      <th>z1</th>\n",
       "      <th>x2</th>\n",
       "      <th>y2</th>\n",
       "      <th>z2</th>\n",
       "      <th>x3</th>\n",
       "      <th>y3</th>\n",
       "      <th>z3</th>\n",
       "      <th>x4</th>\n",
       "      <th>y4</th>\n",
       "      <th>z4</th>\n",
       "      <th>class</th>\n",
       "    </tr>\n",
       "  </thead>\n",
       "  <tbody>\n",
       "  </tbody>\n",
       "</table>\n",
       "</div>"
      ],
      "text/plain": [
       "Empty DataFrame\n",
       "Columns: [user, gender, age, how_tall_in_meters, weight, body_mass_index, x1, y1, z1, x2, y2, z2, x3, y3, z3, x4, y4, z4, class]\n",
       "Index: []"
      ]
     },
     "execution_count": 117,
     "metadata": {},
     "output_type": "execute_result"
    }
   ],
   "source": [
    "# .. your code here ..\n",
    "X['how_tall_in_meters']=X['how_tall_in_meters'].str.replace(',','.')\n",
    "X['body_mass_index']=X['body_mass_index'].str.replace(',','.')\n",
    "X.head()\n",
    "X[pd.isnull(X).any(axis=1)]"
   ]
  },
  {
   "cell_type": "markdown",
   "metadata": {},
   "source": [
    "Let's take a peek at your data types:"
   ]
  },
  {
   "cell_type": "code",
   "execution_count": 118,
   "metadata": {
    "collapsed": false
   },
   "outputs": [
    {
     "data": {
      "text/plain": [
       "user                   object\n",
       "gender                float64\n",
       "age                     int64\n",
       "how_tall_in_meters     object\n",
       "weight                  int64\n",
       "body_mass_index        object\n",
       "x1                      int64\n",
       "y1                      int64\n",
       "z1                      int64\n",
       "x2                      int64\n",
       "y2                      int64\n",
       "z2                      int64\n",
       "x3                      int64\n",
       "y3                      int64\n",
       "z3                      int64\n",
       "x4                      int64\n",
       "y4                      int64\n",
       "z4                      int64\n",
       "class                  object\n",
       "dtype: object"
      ]
     },
     "execution_count": 118,
     "metadata": {},
     "output_type": "execute_result"
    }
   ],
   "source": [
    "X.dtypes\n"
   ]
  },
  {
   "cell_type": "markdown",
   "metadata": {
    "collapsed": false
   },
   "source": [
    "Convert any column that needs to be converted into numeric use `errors='raise'`. This will alert you if something ends up being problematic."
   ]
  },
  {
   "cell_type": "code",
   "execution_count": 119,
   "metadata": {
    "collapsed": false
   },
   "outputs": [
    {
     "data": {
      "text/plain": [
       "user                   object\n",
       "gender                float64\n",
       "age                     int64\n",
       "how_tall_in_meters    float64\n",
       "weight                  int64\n",
       "body_mass_index       float64\n",
       "x1                      int64\n",
       "y1                      int64\n",
       "z1                      int64\n",
       "x2                      int64\n",
       "y2                      int64\n",
       "z2                      int64\n",
       "x3                      int64\n",
       "y3                      int64\n",
       "z3                      int64\n",
       "x4                      int64\n",
       "y4                      int64\n",
       "z4                      int64\n",
       "class                  object\n",
       "dtype: object"
      ]
     },
     "execution_count": 119,
     "metadata": {},
     "output_type": "execute_result"
    }
   ],
   "source": [
    "# .. your code here ..\n",
    "X['how_tall_in_meters']=pd.to_numeric(X['how_tall_in_meters'],errors='raise')\n",
    "X['body_mass_index']=pd.to_numeric(X['body_mass_index'],errors='raise')\n",
    "X.dtypes"
   ]
  },
  {
   "cell_type": "markdown",
   "metadata": {},
   "source": [
    "If you find any problematic records, drop them before calling the `to_numeric` methods above."
   ]
  },
  {
   "cell_type": "markdown",
   "metadata": {
    "collapsed": true
   },
   "source": [
    "Okay, now encode your `y` value as a Pandas dummies version of your dataset's `class` column:"
   ]
  },
  {
   "cell_type": "code",
   "execution_count": 120,
   "metadata": {
    "collapsed": false
   },
   "outputs": [
    {
     "data": {
      "text/html": [
       "<div>\n",
       "<table border=\"1\" class=\"dataframe\">\n",
       "  <thead>\n",
       "    <tr style=\"text-align: right;\">\n",
       "      <th></th>\n",
       "      <th>class_sitting</th>\n",
       "      <th>class_sittingdown</th>\n",
       "      <th>class_standing</th>\n",
       "      <th>class_standingup</th>\n",
       "      <th>class_walking</th>\n",
       "    </tr>\n",
       "  </thead>\n",
       "  <tbody>\n",
       "    <tr>\n",
       "      <th>0</th>\n",
       "      <td>1.0</td>\n",
       "      <td>0.0</td>\n",
       "      <td>0.0</td>\n",
       "      <td>0.0</td>\n",
       "      <td>0.0</td>\n",
       "    </tr>\n",
       "    <tr>\n",
       "      <th>1</th>\n",
       "      <td>1.0</td>\n",
       "      <td>0.0</td>\n",
       "      <td>0.0</td>\n",
       "      <td>0.0</td>\n",
       "      <td>0.0</td>\n",
       "    </tr>\n",
       "    <tr>\n",
       "      <th>2</th>\n",
       "      <td>1.0</td>\n",
       "      <td>0.0</td>\n",
       "      <td>0.0</td>\n",
       "      <td>0.0</td>\n",
       "      <td>0.0</td>\n",
       "    </tr>\n",
       "    <tr>\n",
       "      <th>3</th>\n",
       "      <td>1.0</td>\n",
       "      <td>0.0</td>\n",
       "      <td>0.0</td>\n",
       "      <td>0.0</td>\n",
       "      <td>0.0</td>\n",
       "    </tr>\n",
       "    <tr>\n",
       "      <th>4</th>\n",
       "      <td>1.0</td>\n",
       "      <td>0.0</td>\n",
       "      <td>0.0</td>\n",
       "      <td>0.0</td>\n",
       "      <td>0.0</td>\n",
       "    </tr>\n",
       "  </tbody>\n",
       "</table>\n",
       "</div>"
      ],
      "text/plain": [
       "   class_sitting  class_sittingdown  class_standing  class_standingup  \\\n",
       "0            1.0                0.0             0.0               0.0   \n",
       "1            1.0                0.0             0.0               0.0   \n",
       "2            1.0                0.0             0.0               0.0   \n",
       "3            1.0                0.0             0.0               0.0   \n",
       "4            1.0                0.0             0.0               0.0   \n",
       "\n",
       "   class_walking  \n",
       "0            0.0  \n",
       "1            0.0  \n",
       "2            0.0  \n",
       "3            0.0  \n",
       "4            0.0  "
      ]
     },
     "execution_count": 120,
     "metadata": {},
     "output_type": "execute_result"
    }
   ],
   "source": [
    "# .. your code here ..\n",
    "\n",
    "X.dropna(axis=0,inplace=True)\n",
    "y=X[['class']]\n",
    "y=pd.get_dummies(y)\n",
    "y.head()\n"
   ]
  },
  {
   "cell_type": "markdown",
   "metadata": {
    "collapsed": true
   },
   "source": [
    "In fact, get rid of the `user` and `class` columns:"
   ]
  },
  {
   "cell_type": "code",
   "execution_count": 121,
   "metadata": {
    "collapsed": false
   },
   "outputs": [
    {
     "data": {
      "text/html": [
       "<div>\n",
       "<table border=\"1\" class=\"dataframe\">\n",
       "  <thead>\n",
       "    <tr style=\"text-align: right;\">\n",
       "      <th></th>\n",
       "      <th>gender</th>\n",
       "      <th>age</th>\n",
       "      <th>how_tall_in_meters</th>\n",
       "      <th>weight</th>\n",
       "      <th>body_mass_index</th>\n",
       "      <th>x1</th>\n",
       "      <th>y1</th>\n",
       "      <th>z1</th>\n",
       "      <th>x2</th>\n",
       "      <th>y2</th>\n",
       "      <th>z2</th>\n",
       "      <th>x3</th>\n",
       "      <th>y3</th>\n",
       "      <th>z3</th>\n",
       "      <th>x4</th>\n",
       "      <th>y4</th>\n",
       "      <th>z4</th>\n",
       "    </tr>\n",
       "  </thead>\n",
       "  <tbody>\n",
       "    <tr>\n",
       "      <th>0</th>\n",
       "      <td>1.0</td>\n",
       "      <td>46</td>\n",
       "      <td>1.62</td>\n",
       "      <td>75</td>\n",
       "      <td>28.6</td>\n",
       "      <td>-3</td>\n",
       "      <td>92</td>\n",
       "      <td>-63</td>\n",
       "      <td>-23</td>\n",
       "      <td>18</td>\n",
       "      <td>-19</td>\n",
       "      <td>5</td>\n",
       "      <td>104</td>\n",
       "      <td>-92</td>\n",
       "      <td>-150</td>\n",
       "      <td>-103</td>\n",
       "      <td>-147</td>\n",
       "    </tr>\n",
       "    <tr>\n",
       "      <th>1</th>\n",
       "      <td>1.0</td>\n",
       "      <td>46</td>\n",
       "      <td>1.62</td>\n",
       "      <td>75</td>\n",
       "      <td>28.6</td>\n",
       "      <td>-3</td>\n",
       "      <td>94</td>\n",
       "      <td>-64</td>\n",
       "      <td>-21</td>\n",
       "      <td>18</td>\n",
       "      <td>-18</td>\n",
       "      <td>-14</td>\n",
       "      <td>104</td>\n",
       "      <td>-90</td>\n",
       "      <td>-149</td>\n",
       "      <td>-104</td>\n",
       "      <td>-145</td>\n",
       "    </tr>\n",
       "    <tr>\n",
       "      <th>2</th>\n",
       "      <td>1.0</td>\n",
       "      <td>46</td>\n",
       "      <td>1.62</td>\n",
       "      <td>75</td>\n",
       "      <td>28.6</td>\n",
       "      <td>-1</td>\n",
       "      <td>97</td>\n",
       "      <td>-61</td>\n",
       "      <td>-12</td>\n",
       "      <td>20</td>\n",
       "      <td>-15</td>\n",
       "      <td>-13</td>\n",
       "      <td>104</td>\n",
       "      <td>-90</td>\n",
       "      <td>-151</td>\n",
       "      <td>-104</td>\n",
       "      <td>-144</td>\n",
       "    </tr>\n",
       "    <tr>\n",
       "      <th>3</th>\n",
       "      <td>1.0</td>\n",
       "      <td>46</td>\n",
       "      <td>1.62</td>\n",
       "      <td>75</td>\n",
       "      <td>28.6</td>\n",
       "      <td>-2</td>\n",
       "      <td>96</td>\n",
       "      <td>-57</td>\n",
       "      <td>-15</td>\n",
       "      <td>21</td>\n",
       "      <td>-16</td>\n",
       "      <td>-13</td>\n",
       "      <td>104</td>\n",
       "      <td>-89</td>\n",
       "      <td>-153</td>\n",
       "      <td>-103</td>\n",
       "      <td>-142</td>\n",
       "    </tr>\n",
       "    <tr>\n",
       "      <th>4</th>\n",
       "      <td>1.0</td>\n",
       "      <td>46</td>\n",
       "      <td>1.62</td>\n",
       "      <td>75</td>\n",
       "      <td>28.6</td>\n",
       "      <td>-1</td>\n",
       "      <td>96</td>\n",
       "      <td>-61</td>\n",
       "      <td>-13</td>\n",
       "      <td>20</td>\n",
       "      <td>-15</td>\n",
       "      <td>-13</td>\n",
       "      <td>104</td>\n",
       "      <td>-89</td>\n",
       "      <td>-153</td>\n",
       "      <td>-104</td>\n",
       "      <td>-143</td>\n",
       "    </tr>\n",
       "  </tbody>\n",
       "</table>\n",
       "</div>"
      ],
      "text/plain": [
       "   gender  age  how_tall_in_meters  weight  body_mass_index  x1  y1  z1  x2  \\\n",
       "0     1.0   46                1.62      75             28.6  -3  92 -63 -23   \n",
       "1     1.0   46                1.62      75             28.6  -3  94 -64 -21   \n",
       "2     1.0   46                1.62      75             28.6  -1  97 -61 -12   \n",
       "3     1.0   46                1.62      75             28.6  -2  96 -57 -15   \n",
       "4     1.0   46                1.62      75             28.6  -1  96 -61 -13   \n",
       "\n",
       "   y2  z2  x3   y3  z3   x4   y4   z4  \n",
       "0  18 -19   5  104 -92 -150 -103 -147  \n",
       "1  18 -18 -14  104 -90 -149 -104 -145  \n",
       "2  20 -15 -13  104 -90 -151 -104 -144  \n",
       "3  21 -16 -13  104 -89 -153 -103 -142  \n",
       "4  20 -15 -13  104 -89 -153 -104 -143  "
      ]
     },
     "execution_count": 121,
     "metadata": {},
     "output_type": "execute_result"
    }
   ],
   "source": [
    "# .. your code here ..\n",
    "\n",
    "X.drop(['class','user'],axis=1,inplace=True)\n",
    "X.head()"
   ]
  },
  {
   "cell_type": "markdown",
   "metadata": {},
   "source": [
    "Let's take a look at your handy-work:"
   ]
  },
  {
   "cell_type": "code",
   "execution_count": 122,
   "metadata": {
    "collapsed": false
   },
   "outputs": [
    {
     "data": {
      "text/html": [
       "<div>\n",
       "<table border=\"1\" class=\"dataframe\">\n",
       "  <thead>\n",
       "    <tr style=\"text-align: right;\">\n",
       "      <th></th>\n",
       "      <th>gender</th>\n",
       "      <th>age</th>\n",
       "      <th>how_tall_in_meters</th>\n",
       "      <th>weight</th>\n",
       "      <th>body_mass_index</th>\n",
       "      <th>x1</th>\n",
       "      <th>y1</th>\n",
       "      <th>z1</th>\n",
       "      <th>x2</th>\n",
       "      <th>y2</th>\n",
       "      <th>z2</th>\n",
       "      <th>x3</th>\n",
       "      <th>y3</th>\n",
       "      <th>z3</th>\n",
       "      <th>x4</th>\n",
       "      <th>y4</th>\n",
       "      <th>z4</th>\n",
       "    </tr>\n",
       "  </thead>\n",
       "  <tbody>\n",
       "    <tr>\n",
       "      <th>count</th>\n",
       "      <td>101374.0</td>\n",
       "      <td>101374.000000</td>\n",
       "      <td>101374.000000</td>\n",
       "      <td>101374.000000</td>\n",
       "      <td>101374.000000</td>\n",
       "      <td>101374.000000</td>\n",
       "      <td>101374.000000</td>\n",
       "      <td>101374.000000</td>\n",
       "      <td>101374.000000</td>\n",
       "      <td>101374.000000</td>\n",
       "      <td>101374.000000</td>\n",
       "      <td>101374.000000</td>\n",
       "      <td>101374.000000</td>\n",
       "      <td>101374.000000</td>\n",
       "      <td>101374.000000</td>\n",
       "      <td>101374.000000</td>\n",
       "      <td>101374.000000</td>\n",
       "    </tr>\n",
       "    <tr>\n",
       "      <th>mean</th>\n",
       "      <td>1.0</td>\n",
       "      <td>37.158029</td>\n",
       "      <td>1.600351</td>\n",
       "      <td>65.175587</td>\n",
       "      <td>25.357944</td>\n",
       "      <td>-6.610117</td>\n",
       "      <td>88.134107</td>\n",
       "      <td>-82.238355</td>\n",
       "      <td>-104.784323</td>\n",
       "      <td>-70.032760</td>\n",
       "      <td>-195.158611</td>\n",
       "      <td>15.004814</td>\n",
       "      <td>103.640717</td>\n",
       "      <td>-93.758646</td>\n",
       "      <td>-173.110827</td>\n",
       "      <td>-91.390643</td>\n",
       "      <td>-160.254079</td>\n",
       "    </tr>\n",
       "    <tr>\n",
       "      <th>std</th>\n",
       "      <td>0.0</td>\n",
       "      <td>8.998657</td>\n",
       "      <td>0.019997</td>\n",
       "      <td>9.998508</td>\n",
       "      <td>3.299508</td>\n",
       "      <td>11.229889</td>\n",
       "      <td>27.238422</td>\n",
       "      <td>39.874796</td>\n",
       "      <td>181.776744</td>\n",
       "      <td>221.221532</td>\n",
       "      <td>204.951088</td>\n",
       "      <td>54.013000</td>\n",
       "      <td>60.622992</td>\n",
       "      <td>52.923751</td>\n",
       "      <td>23.337257</td>\n",
       "      <td>12.854723</td>\n",
       "      <td>9.467801</td>\n",
       "    </tr>\n",
       "    <tr>\n",
       "      <th>min</th>\n",
       "      <td>1.0</td>\n",
       "      <td>28.000000</td>\n",
       "      <td>1.580000</td>\n",
       "      <td>55.000000</td>\n",
       "      <td>22.000000</td>\n",
       "      <td>-68.000000</td>\n",
       "      <td>7.000000</td>\n",
       "      <td>-603.000000</td>\n",
       "      <td>-494.000000</td>\n",
       "      <td>-517.000000</td>\n",
       "      <td>-617.000000</td>\n",
       "      <td>-499.000000</td>\n",
       "      <td>-506.000000</td>\n",
       "      <td>-613.000000</td>\n",
       "      <td>-565.000000</td>\n",
       "      <td>-526.000000</td>\n",
       "      <td>-537.000000</td>\n",
       "    </tr>\n",
       "    <tr>\n",
       "      <th>25%</th>\n",
       "      <td>1.0</td>\n",
       "      <td>28.000000</td>\n",
       "      <td>1.580000</td>\n",
       "      <td>55.000000</td>\n",
       "      <td>22.000000</td>\n",
       "      <td>-12.000000</td>\n",
       "      <td>84.000000</td>\n",
       "      <td>-103.000000</td>\n",
       "      <td>-204.000000</td>\n",
       "      <td>-211.000000</td>\n",
       "      <td>-327.000000</td>\n",
       "      <td>10.000000</td>\n",
       "      <td>99.000000</td>\n",
       "      <td>-102.000000</td>\n",
       "      <td>-187.000000</td>\n",
       "      <td>-99.000000</td>\n",
       "      <td>-167.000000</td>\n",
       "    </tr>\n",
       "    <tr>\n",
       "      <th>50%</th>\n",
       "      <td>1.0</td>\n",
       "      <td>46.000000</td>\n",
       "      <td>1.620000</td>\n",
       "      <td>75.000000</td>\n",
       "      <td>28.600000</td>\n",
       "      <td>-5.000000</td>\n",
       "      <td>96.000000</td>\n",
       "      <td>-93.000000</td>\n",
       "      <td>-7.000000</td>\n",
       "      <td>28.000000</td>\n",
       "      <td>-120.000000</td>\n",
       "      <td>21.000000</td>\n",
       "      <td>107.000000</td>\n",
       "      <td>-89.000000</td>\n",
       "      <td>-167.000000</td>\n",
       "      <td>-93.000000</td>\n",
       "      <td>-161.000000</td>\n",
       "    </tr>\n",
       "    <tr>\n",
       "      <th>75%</th>\n",
       "      <td>1.0</td>\n",
       "      <td>46.000000</td>\n",
       "      <td>1.620000</td>\n",
       "      <td>75.000000</td>\n",
       "      <td>28.600000</td>\n",
       "      <td>-1.000000</td>\n",
       "      <td>102.000000</td>\n",
       "      <td>-49.000000</td>\n",
       "      <td>4.000000</td>\n",
       "      <td>83.000000</td>\n",
       "      <td>-36.000000</td>\n",
       "      <td>30.000000</td>\n",
       "      <td>109.000000</td>\n",
       "      <td>-78.000000</td>\n",
       "      <td>-157.000000</td>\n",
       "      <td>-86.000000</td>\n",
       "      <td>-155.000000</td>\n",
       "    </tr>\n",
       "    <tr>\n",
       "      <th>max</th>\n",
       "      <td>1.0</td>\n",
       "      <td>46.000000</td>\n",
       "      <td>1.620000</td>\n",
       "      <td>75.000000</td>\n",
       "      <td>28.600000</td>\n",
       "      <td>54.000000</td>\n",
       "      <td>205.000000</td>\n",
       "      <td>74.000000</td>\n",
       "      <td>145.000000</td>\n",
       "      <td>241.000000</td>\n",
       "      <td>122.000000</td>\n",
       "      <td>507.000000</td>\n",
       "      <td>517.000000</td>\n",
       "      <td>183.000000</td>\n",
       "      <td>-48.000000</td>\n",
       "      <td>86.000000</td>\n",
       "      <td>-71.000000</td>\n",
       "    </tr>\n",
       "  </tbody>\n",
       "</table>\n",
       "</div>"
      ],
      "text/plain": [
       "         gender            age  how_tall_in_meters         weight  \\\n",
       "count  101374.0  101374.000000       101374.000000  101374.000000   \n",
       "mean        1.0      37.158029            1.600351      65.175587   \n",
       "std         0.0       8.998657            0.019997       9.998508   \n",
       "min         1.0      28.000000            1.580000      55.000000   \n",
       "25%         1.0      28.000000            1.580000      55.000000   \n",
       "50%         1.0      46.000000            1.620000      75.000000   \n",
       "75%         1.0      46.000000            1.620000      75.000000   \n",
       "max         1.0      46.000000            1.620000      75.000000   \n",
       "\n",
       "       body_mass_index             x1             y1             z1  \\\n",
       "count    101374.000000  101374.000000  101374.000000  101374.000000   \n",
       "mean         25.357944      -6.610117      88.134107     -82.238355   \n",
       "std           3.299508      11.229889      27.238422      39.874796   \n",
       "min          22.000000     -68.000000       7.000000    -603.000000   \n",
       "25%          22.000000     -12.000000      84.000000    -103.000000   \n",
       "50%          28.600000      -5.000000      96.000000     -93.000000   \n",
       "75%          28.600000      -1.000000     102.000000     -49.000000   \n",
       "max          28.600000      54.000000     205.000000      74.000000   \n",
       "\n",
       "                  x2             y2             z2             x3  \\\n",
       "count  101374.000000  101374.000000  101374.000000  101374.000000   \n",
       "mean     -104.784323     -70.032760    -195.158611      15.004814   \n",
       "std       181.776744     221.221532     204.951088      54.013000   \n",
       "min      -494.000000    -517.000000    -617.000000    -499.000000   \n",
       "25%      -204.000000    -211.000000    -327.000000      10.000000   \n",
       "50%        -7.000000      28.000000    -120.000000      21.000000   \n",
       "75%         4.000000      83.000000     -36.000000      30.000000   \n",
       "max       145.000000     241.000000     122.000000     507.000000   \n",
       "\n",
       "                  y3             z3             x4             y4  \\\n",
       "count  101374.000000  101374.000000  101374.000000  101374.000000   \n",
       "mean      103.640717     -93.758646    -173.110827     -91.390643   \n",
       "std        60.622992      52.923751      23.337257      12.854723   \n",
       "min      -506.000000    -613.000000    -565.000000    -526.000000   \n",
       "25%        99.000000    -102.000000    -187.000000     -99.000000   \n",
       "50%       107.000000     -89.000000    -167.000000     -93.000000   \n",
       "75%       109.000000     -78.000000    -157.000000     -86.000000   \n",
       "max       517.000000     183.000000     -48.000000      86.000000   \n",
       "\n",
       "                  z4  \n",
       "count  101374.000000  \n",
       "mean     -160.254079  \n",
       "std         9.467801  \n",
       "min      -537.000000  \n",
       "25%      -167.000000  \n",
       "50%      -161.000000  \n",
       "75%      -155.000000  \n",
       "max       -71.000000  "
      ]
     },
     "execution_count": 122,
     "metadata": {},
     "output_type": "execute_result"
    }
   ],
   "source": [
    "\n",
    "X[pd.isnull(X).any(axis=1)]\n",
    "X.describe()"
   ]
  },
  {
   "cell_type": "markdown",
   "metadata": {},
   "source": [
    "You can also easily display which rows have nans in them, if any:"
   ]
  },
  {
   "cell_type": "code",
   "execution_count": 123,
   "metadata": {
    "collapsed": false
   },
   "outputs": [
    {
     "data": {
      "text/html": [
       "<div>\n",
       "<table border=\"1\" class=\"dataframe\">\n",
       "  <thead>\n",
       "    <tr style=\"text-align: right;\">\n",
       "      <th></th>\n",
       "      <th>gender</th>\n",
       "      <th>age</th>\n",
       "      <th>how_tall_in_meters</th>\n",
       "      <th>weight</th>\n",
       "      <th>body_mass_index</th>\n",
       "      <th>x1</th>\n",
       "      <th>y1</th>\n",
       "      <th>z1</th>\n",
       "      <th>x2</th>\n",
       "      <th>y2</th>\n",
       "      <th>z2</th>\n",
       "      <th>x3</th>\n",
       "      <th>y3</th>\n",
       "      <th>z3</th>\n",
       "      <th>x4</th>\n",
       "      <th>y4</th>\n",
       "      <th>z4</th>\n",
       "    </tr>\n",
       "  </thead>\n",
       "  <tbody>\n",
       "  </tbody>\n",
       "</table>\n",
       "</div>"
      ],
      "text/plain": [
       "Empty DataFrame\n",
       "Columns: [gender, age, how_tall_in_meters, weight, body_mass_index, x1, y1, z1, x2, y2, z2, x3, y3, z3, x4, y4, z4]\n",
       "Index: []"
      ]
     },
     "execution_count": 123,
     "metadata": {},
     "output_type": "execute_result"
    }
   ],
   "source": [
    "X[pd.isnull(X).any(axis=1)]"
   ]
  },
  {
   "cell_type": "markdown",
   "metadata": {},
   "source": [
    "Create an RForest classifier named `model` and set `n_estimators=30`, the `max_depth` to 10, `oob_score=True`, and `random_state=0`:"
   ]
  },
  {
   "cell_type": "code",
   "execution_count": 125,
   "metadata": {
    "collapsed": false
   },
   "outputs": [
    {
     "data": {
      "text/plain": [
       "(101374, 5)"
      ]
     },
     "execution_count": 125,
     "metadata": {},
     "output_type": "execute_result"
    }
   ],
   "source": [
    "# .. your code here ..\n",
    "from sklearn.ensemble import RandomForestClassifier\n",
    "model = RandomForestClassifier(n_estimators=30, oob_score=True,max_depth=10,random_state=0)\n",
    "X.shape\n",
    "y.shape\n",
    "#model.fit(X, y)"
   ]
  },
  {
   "cell_type": "markdown",
   "metadata": {},
   "source": [
    "Split your data into `test` / `train` sets. Your `test` size can be 30%, with `random_state` 7. Use variable names: `X_train`, `X_test`, `y_train`, and `y_test`:"
   ]
  },
  {
   "cell_type": "code",
   "execution_count": 126,
   "metadata": {
    "collapsed": false
   },
   "outputs": [],
   "source": [
    "# .. your code here ..\n",
    "from sklearn.model_selection import train_test_split\n",
    "X_train,X_test,y_train,y_test = train_test_split(X,y, test_size=0.30, random_state=7)\n"
   ]
  },
  {
   "cell_type": "markdown",
   "metadata": {},
   "source": [
    "### Now the Fun Stuff"
   ]
  },
  {
   "cell_type": "code",
   "execution_count": 127,
   "metadata": {
    "collapsed": false
   },
   "outputs": [
    {
     "name": "stdout",
     "output_type": "stream",
     "text": [
      "Fitting...\n",
      "('Fitting completed in: ', 5.9730000495910645)\n"
     ]
    }
   ],
   "source": [
    "print(\"Fitting...\")\n",
    "s = time.time()\n",
    "\n",
    "# TODO: train your model on your training set\n",
    "model=model.fit(X_train,y_train)\n",
    "\n",
    "# .. your code here ..\n",
    "\n",
    "print(\"Fitting completed in: \", time.time() - s)"
   ]
  },
  {
   "cell_type": "markdown",
   "metadata": {},
   "source": [
    "Display the OOB Score of your data:"
   ]
  },
  {
   "cell_type": "code",
   "execution_count": 128,
   "metadata": {
    "collapsed": false
   },
   "outputs": [
    {
     "name": "stdout",
     "output_type": "stream",
     "text": [
      "('OOB Score: ', 99.32)\n"
     ]
    }
   ],
   "source": [
    "score = model.oob_score_\n",
    "print(\"OOB Score: \", round(score*100, 3))"
   ]
  },
  {
   "cell_type": "code",
   "execution_count": 129,
   "metadata": {
    "collapsed": false
   },
   "outputs": [
    {
     "name": "stdout",
     "output_type": "stream",
     "text": [
      "Scoring...\n",
      "('Score: ', 99.32)\n",
      "('Scoring completed in: ', 0.5690000057220459)\n"
     ]
    }
   ],
   "source": [
    "print(\"Scoring...\")\n",
    "s = time.time()\n",
    "\n",
    "# TODO: score your model on your test set\n",
    "\n",
    "# .. your code here ..\n",
    "model.score(X_test,y_test)\n",
    "\n",
    "print(\"Score: \", round(score*100, 3))\n",
    "print(\"Scoring completed in: \", time.time() - s)"
   ]
  },
  {
   "cell_type": "markdown",
   "metadata": {},
   "source": [
    "At this point, go ahead and answer the lab questions, then return here to experiment more --"
   ]
  },
  {
   "cell_type": "markdown",
   "metadata": {},
   "source": [
    "Try playing around with the gender column. For example, encode `gender` `Male:1`, and `Female:0`. Also try encoding it as a Pandas dummies variable and seeing what changes that has. You can also try dropping gender entirely from the dataframe. How does that change the score of the model? This will be a key insight on how your feature encoding alters your overall scoring, and why it's important to choose good ones."
   ]
  },
  {
   "cell_type": "code",
   "execution_count": null,
   "metadata": {
    "collapsed": true
   },
   "outputs": [],
   "source": [
    "# .. your code changes above .."
   ]
  },
  {
   "cell_type": "markdown",
   "metadata": {},
   "source": [
    "After that, try messing with `y`. Right now its encoded with dummies, but try other encoding methods to what effects they have."
   ]
  },
  {
   "cell_type": "code",
   "execution_count": null,
   "metadata": {
    "collapsed": true
   },
   "outputs": [],
   "source": []
  }
 ],
 "metadata": {
  "anaconda-cloud": {},
  "kernelspec": {
   "display_name": "Python [Root]",
   "language": "python",
   "name": "Python [Root]"
  },
  "language_info": {
   "codemirror_mode": {
    "name": "ipython",
    "version": 2
   },
   "file_extension": ".py",
   "mimetype": "text/x-python",
   "name": "python",
   "nbconvert_exporter": "python",
   "pygments_lexer": "ipython2",
   "version": "2.7.12"
  },
  "toc": {
   "colors": {
    "hover_highlight": "#DAA520",
    "running_highlight": "#FF0000",
    "selected_highlight": "#FFD700"
   },
   "moveMenuLeft": true,
   "nav_menu": {
    "height": "58px",
    "width": "252px"
   },
   "navigate_menu": true,
   "number_sections": true,
   "sideBar": true,
   "threshold": 4,
   "toc_cell": false,
   "toc_section_display": "block",
   "toc_window_display": false,
   "widenNotebook": false
  }
 },
 "nbformat": 4,
 "nbformat_minor": 2
}
